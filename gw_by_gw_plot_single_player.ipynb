{
 "cells": [
  {
   "cell_type": "code",
   "execution_count": 228,
   "metadata": {
    "scrolled": true
   },
   "outputs": [
    {
     "data": {
      "image/png": "[encoded data removed]",
      "text/plain": [
       "<Figure size 720x360 with 1 Axes>"
      ]
     },
     "metadata": {
      "needs_background": "light"
     },
     "output_type": "display_data"
    }
   ],
   "source": [
    "#This script will plot a single players gw by gw points\n",
    "\n",
    "import pandas as pd\n",
    "from matplotlib import pyplot as plt\n",
    "import seaborn as sns\n",
    "\n",
    "#Load data\n",
    "mo_data = pd.read_csv('C:/Users/ucapy/OneDrive - University College London/Documents/python_scripts/fantasy_PL/fantasy_master/Fantasy-Premier-League-master/data/2019-20/players/Mohamed_Salah_191/gw.csv')\n",
    "x = pd.Series(range(1,39))\n",
    "\n",
    "plt.figure(figsize=(10,5))\n",
    "sns.barplot(x,mo_data['total_points'],color='salmon',alpha=0.9)\n",
    "plt.xlabel('GW',fontsize=12)\n",
    "plt.ylabel('Points',fontsize=12)\n",
    "plt.show()"
   ]
  },
  {
   "cell_type": "code",
   "execution_count": 226,
   "metadata": {},
   "outputs": [
    {
     "data": {
      "image/png": "[encoded data removed]",
      "text/plain": [
       "<Figure size 720x360 with 1 Axes>"
      ]
     },
     "metadata": {
      "needs_background": "light"
     },
     "output_type": "display_data"
    }
   ],
   "source": [
    "#This script will plot frequency of points\n",
    "import pandas as pd\n",
    "from matplotlib import pyplot as plt\n",
    "import seaborn as sns\n",
    "\n",
    "#Load data\n",
    "df = pd.read_csv('C:/Users/ucapy/OneDrive - University College London/Documents/python_scripts/fantasy_PL/fantasy_master/Fantasy-Premier-League-master/data/2019-20/players/Mohamed_Salah_191/gw.csv')\n",
    "mo_points = df['total_points'].value_counts()\n",
    "plt.figure(figsize=(10,5))\n",
    "sns.barplot(mo_points.index, mo_points.values, color='salmon',alpha=0.9)\n",
    "plt.ylabel('Occurences', fontsize=12)\n",
    "plt.xlabel('Points', fontsize=12)\n",
    "plt.show()"
   ]
  },
  {
   "cell_type": "code",
   "execution_count": 1,
   "metadata": {},
   "outputs": [
    {
     "name": "stdout",
     "output_type": "stream",
     "text": [
      "    total_points  was_home\n",
      "0             12      True\n",
      "1              3     False\n",
      "2             15      True\n",
      "3              6     False\n",
      "4              9      True\n",
      "5              5     False\n",
      "6              3     False\n",
      "7              2      True\n",
      "8              0     False\n",
      "9              7      True\n",
      "10             2     False\n",
      "11             8      True\n",
      "12             0     False\n",
      "13             3      True\n",
      "14             0      True\n",
      "15            13     False\n",
      "16            16      True\n",
      "17             3     False\n",
      "18             3      True\n",
      "19            10      True\n",
      "20             6     False\n",
      "21             7      True\n",
      "22             2     False\n",
      "23            14     False\n",
      "24            16      True\n",
      "25             3     False\n",
      "26             7      True\n",
      "27             2     False\n",
      "28             9      True\n",
      "29             0     False\n",
      "30            11      True\n",
      "31             2     False\n",
      "32             6      True\n",
      "33            18     False\n",
      "34             2      True\n",
      "35             2     False\n",
      "36             5      True\n",
      "37             1     False\n",
      "Average home points is 7.8\n",
      "Average away points is 4.5\n"
     ]
    }
   ],
   "source": [
    "#This script will calculate the mean points home or away\n",
    "import pandas as pd\n",
    "from matplotlib import pyplot as plt\n",
    "import seaborn as sns\n",
    "\n",
    "#Load data\n",
    "mo_data = pd.read_csv('C:/Users/ucapy/OneDrive - University College London/Documents/python_scripts/fantasy_PL/fantasy_master/Fantasy-Premier-League-master/data/2019-20/players/Mohamed_Salah_191/gw.csv')\n",
    "\n",
    "new_var = mo_data[['total_points','was_home']]\n",
    "\n",
    "home_count = 0\n",
    "away_count = 0\n",
    "num_home = 0\n",
    "num_away = 0\n",
    "for x in range(0,len(new_var)):\n",
    "    if new_var.iloc[x,1]:\n",
    "        num_home += 1\n",
    "        home_count += new_var.iloc[x,0]\n",
    "    else:\n",
    "        away_count += new_var.iloc[x,0]\n",
    "        num_away += 1\n",
    "\n",
    "average_away = away_count/num_away\n",
    "average_home = home_count/num_home\n",
    "print(new_var)\n",
    "print('Average home points is %s' %round(average_home,1))\n",
    "print('Average away points is %s' %round(average_away,1))\n"
   ]
  },
  {
   "cell_type": "code",
   "execution_count": null,
   "metadata": {
    "collapsed": true
   },
   "outputs": [],
   "source": []
  }
 ],
 "metadata": {
  "kernelspec": {
   "display_name": "Python 3",
   "language": "python",
   "name": "python3"
  },
  "language_info": {
   "codemirror_mode": {
    "name": "ipython",
    "version": 3
   },
   "file_extension": ".py",
   "mimetype": "text/x-python",
   "name": "python",
   "nbconvert_exporter": "python",
   "pygments_lexer": "ipython3",
   "version": "3.7.4"
  }
 },
 "nbformat": 4,
 "nbformat_minor": 2
}
